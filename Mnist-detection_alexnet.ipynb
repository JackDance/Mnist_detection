{
 "cells": [
  {
   "cell_type": "code",
   "execution_count": 22,
   "id": "384b4651",
   "metadata": {},
   "outputs": [],
   "source": [
    "# 导入需要的包\n",
    "import numpy as np\n",
    "import torch\n",
    "from torch import nn\n",
    "from PIL import Image\n",
    "import matplotlib.pyplot as plt\n",
    "import os\n",
    "from torchvision import datasets, models, transforms, utils\n",
    "import time"
   ]
  },
  {
   "cell_type": "markdown",
   "id": "0bf185cb",
   "metadata": {},
   "source": [
    "### Step1. 准备数据"
   ]
  },
  {
   "cell_type": "code",
   "execution_count": 23,
   "id": "47e61955",
   "metadata": {},
   "outputs": [],
   "source": [
    "# 数据归一化\n",
    "transform = transforms.Compose([transforms.Resize(224),# 因为alexnet需要较大的图进行后续的卷积操作，故这里将原图扩大到224\n",
    "                               transforms.ToTensor(),\n",
    "                               transforms.Normalize(mean=[0.1307], std=[0.3081])])"
   ]
  },
  {
   "cell_type": "code",
   "execution_count": 24,
   "id": "4831890f",
   "metadata": {
    "scrolled": false
   },
   "outputs": [],
   "source": [
    "# 下载训练和测试数据\n",
    "train_data = datasets.MNIST(root='./data',\n",
    "                      transform=transform,\n",
    "                      train=True,\n",
    "                      download=True)\n",
    "test_data = datasets.MNIST(root='./data',\n",
    "                      transform=transform,\n",
    "                      train=False)"
   ]
  },
  {
   "cell_type": "code",
   "execution_count": 25,
   "id": "b104f454",
   "metadata": {},
   "outputs": [
    {
     "name": "stdout",
     "output_type": "stream",
     "text": [
      "(tensor([[[-0.4242, -0.4242, -0.4242,  ..., -0.4242, -0.4242, -0.4242],\n",
      "         [-0.4242, -0.4242, -0.4242,  ..., -0.4242, -0.4242, -0.4242],\n",
      "         [-0.4242, -0.4242, -0.4242,  ..., -0.4242, -0.4242, -0.4242],\n",
      "         ...,\n",
      "         [-0.4242, -0.4242, -0.4242,  ..., -0.4242, -0.4242, -0.4242],\n",
      "         [-0.4242, -0.4242, -0.4242,  ..., -0.4242, -0.4242, -0.4242],\n",
      "         [-0.4242, -0.4242, -0.4242,  ..., -0.4242, -0.4242, -0.4242]]]), 5)\n",
      "60000\n",
      "10000\n"
     ]
    }
   ],
   "source": [
    "# 输出一个样本，一个样本是由一张图片和对应的标签组成的\n",
    "for i, data in enumerate(train_data):\n",
    "    print(data)\n",
    "    break\n",
    "# 输出训练和测试图片数\n",
    "print(len(train_data))\n",
    "print(len(test_data))"
   ]
  },
  {
   "cell_type": "code",
   "execution_count": null,
   "id": "a8ec0cb4",
   "metadata": {},
   "outputs": [],
   "source": [
    "# 加载训练和测试数据\n",
    "train_loader = torch.utils.data.DataLoader(train_data, batch_size=400, shuffle=True, num_workers=8)\n",
    "test_loader = torch.utils.data.DataLoader(test_data, batch_size=400, shuffle=True, num_workers=8)"
   ]
  },
  {
   "cell_type": "code",
   "execution_count": 57,
   "id": "0f7bbb3d",
   "metadata": {
    "scrolled": true
   },
   "outputs": [
    {
     "name": "stderr",
     "output_type": "stream",
     "text": [
      "Traceback (most recent call last):\n",
      "Traceback (most recent call last):\n",
      "  File \"/opt/anaconda3/envs/pytorch/lib/python3.8/multiprocessing/queues.py\", line 245, in _feed\n",
      "    send_bytes(obj)\n",
      "  File \"/opt/anaconda3/envs/pytorch/lib/python3.8/multiprocessing/connection.py\", line 200, in send_bytes\n",
      "    self._send_bytes(m[offset:offset + size])\n",
      "  File \"/opt/anaconda3/envs/pytorch/lib/python3.8/multiprocessing/connection.py\", line 411, in _send_bytes\n",
      "    self._send(header + buf)\n",
      "  File \"/opt/anaconda3/envs/pytorch/lib/python3.8/multiprocessing/connection.py\", line 368, in _send\n",
      "    n = write(self._handle, buf)\n",
      "BrokenPipeError: [Errno 32] Broken pipe\n",
      "  File \"/opt/anaconda3/envs/pytorch/lib/python3.8/multiprocessing/queues.py\", line 245, in _feed\n",
      "    send_bytes(obj)\n",
      "  File \"/opt/anaconda3/envs/pytorch/lib/python3.8/multiprocessing/connection.py\", line 200, in send_bytes\n",
      "    self._send_bytes(m[offset:offset + size])\n",
      "  File \"/opt/anaconda3/envs/pytorch/lib/python3.8/multiprocessing/connection.py\", line 411, in _send_bytes\n",
      "    self._send(header + buf)\n",
      "  File \"/opt/anaconda3/envs/pytorch/lib/python3.8/multiprocessing/connection.py\", line 368, in _send\n",
      "    n = write(self._handle, buf)\n",
      "BrokenPipeError: [Errno 32] Broken pipe\n"
     ]
    },
    {
     "name": "stdout",
     "output_type": "stream",
     "text": [
      "[tensor([[[[-0.4242, -0.4242, -0.4242,  ..., -0.4242, -0.4242, -0.4242],\n",
      "          [-0.4242, -0.4242, -0.4242,  ..., -0.4242, -0.4242, -0.4242],\n",
      "          [-0.4242, -0.4242, -0.4242,  ..., -0.4242, -0.4242, -0.4242],\n",
      "          ...,\n",
      "          [-0.4242, -0.4242, -0.4242,  ..., -0.4242, -0.4242, -0.4242],\n",
      "          [-0.4242, -0.4242, -0.4242,  ..., -0.4242, -0.4242, -0.4242],\n",
      "          [-0.4242, -0.4242, -0.4242,  ..., -0.4242, -0.4242, -0.4242]]],\n",
      "\n",
      "\n",
      "        [[[-0.4242, -0.4242, -0.4242,  ..., -0.4242, -0.4242, -0.4242],\n",
      "          [-0.4242, -0.4242, -0.4242,  ..., -0.4242, -0.4242, -0.4242],\n",
      "          [-0.4242, -0.4242, -0.4242,  ..., -0.4242, -0.4242, -0.4242],\n",
      "          ...,\n",
      "          [-0.4242, -0.4242, -0.4242,  ..., -0.4242, -0.4242, -0.4242],\n",
      "          [-0.4242, -0.4242, -0.4242,  ..., -0.4242, -0.4242, -0.4242],\n",
      "          [-0.4242, -0.4242, -0.4242,  ..., -0.4242, -0.4242, -0.4242]]],\n",
      "\n",
      "\n",
      "        [[[-0.4242, -0.4242, -0.4242,  ..., -0.4242, -0.4242, -0.4242],\n",
      "          [-0.4242, -0.4242, -0.4242,  ..., -0.4242, -0.4242, -0.4242],\n",
      "          [-0.4242, -0.4242, -0.4242,  ..., -0.4242, -0.4242, -0.4242],\n",
      "          ...,\n",
      "          [-0.4242, -0.4242, -0.4242,  ..., -0.4242, -0.4242, -0.4242],\n",
      "          [-0.4242, -0.4242, -0.4242,  ..., -0.4242, -0.4242, -0.4242],\n",
      "          [-0.4242, -0.4242, -0.4242,  ..., -0.4242, -0.4242, -0.4242]]],\n",
      "\n",
      "\n",
      "        ...,\n",
      "\n",
      "\n",
      "        [[[-0.4242, -0.4242, -0.4242,  ..., -0.4242, -0.4242, -0.4242],\n",
      "          [-0.4242, -0.4242, -0.4242,  ..., -0.4242, -0.4242, -0.4242],\n",
      "          [-0.4242, -0.4242, -0.4242,  ..., -0.4242, -0.4242, -0.4242],\n",
      "          ...,\n",
      "          [-0.4242, -0.4242, -0.4242,  ..., -0.4242, -0.4242, -0.4242],\n",
      "          [-0.4242, -0.4242, -0.4242,  ..., -0.4242, -0.4242, -0.4242],\n",
      "          [-0.4242, -0.4242, -0.4242,  ..., -0.4242, -0.4242, -0.4242]]],\n",
      "\n",
      "\n",
      "        [[[-0.4242, -0.4242, -0.4242,  ..., -0.4242, -0.4242, -0.4242],\n",
      "          [-0.4242, -0.4242, -0.4242,  ..., -0.4242, -0.4242, -0.4242],\n",
      "          [-0.4242, -0.4242, -0.4242,  ..., -0.4242, -0.4242, -0.4242],\n",
      "          ...,\n",
      "          [-0.4242, -0.4242, -0.4242,  ..., -0.4242, -0.4242, -0.4242],\n",
      "          [-0.4242, -0.4242, -0.4242,  ..., -0.4242, -0.4242, -0.4242],\n",
      "          [-0.4242, -0.4242, -0.4242,  ..., -0.4242, -0.4242, -0.4242]]],\n",
      "\n",
      "\n",
      "        [[[-0.4242, -0.4242, -0.4242,  ..., -0.4242, -0.4242, -0.4242],\n",
      "          [-0.4242, -0.4242, -0.4242,  ..., -0.4242, -0.4242, -0.4242],\n",
      "          [-0.4242, -0.4242, -0.4242,  ..., -0.4242, -0.4242, -0.4242],\n",
      "          ...,\n",
      "          [-0.4242, -0.4242, -0.4242,  ..., -0.4242, -0.4242, -0.4242],\n",
      "          [-0.4242, -0.4242, -0.4242,  ..., -0.4242, -0.4242, -0.4242],\n",
      "          [-0.4242, -0.4242, -0.4242,  ..., -0.4242, -0.4242, -0.4242]]]]), tensor([6, 1, 1, 0, 7, 9, 8, 6, 1, 8, 0, 1, 8, 2, 7, 5, 7, 9, 7, 0, 2, 7, 3, 9,\n",
      "        2, 1, 0, 7, 6, 7, 3, 1, 9, 7, 1, 6, 2, 7, 3, 7, 5, 2, 5, 9, 4, 4, 0, 7,\n",
      "        1, 6, 5, 7, 3, 9, 4, 8, 6, 4, 9, 6, 5, 4, 0, 2, 9, 6, 1, 9, 8, 0, 6, 9,\n",
      "        1, 0, 6, 4, 3, 6, 3, 8, 4, 6, 1, 2, 9, 9, 7, 2, 5, 4, 8, 1, 6, 7, 5, 9,\n",
      "        3, 7, 4, 1, 1, 3, 0, 7, 3, 5, 4, 2, 2, 0, 7, 9, 3, 3, 5, 6, 8, 8, 8, 5,\n",
      "        9, 3, 7, 4, 5, 7, 3, 4, 1, 1, 3, 8, 7, 1, 4, 5, 4, 6, 8, 6, 2, 3, 1, 6,\n",
      "        1, 6, 9, 1, 4, 7, 0, 7, 4, 6, 4, 0, 2, 7, 6, 1, 8, 6, 1, 0, 3, 2, 2, 4,\n",
      "        8, 1, 4, 7, 4, 0, 3, 4, 4, 9, 0, 4, 2, 4, 7, 6, 1, 9, 1, 4, 6, 4, 2, 0,\n",
      "        7, 5, 9, 0, 2, 3, 3, 7, 3, 1, 4, 6, 8, 3, 8, 6, 3, 2, 1, 9, 5, 6, 0, 8,\n",
      "        0, 7, 5, 3, 3, 6, 4, 6, 0, 9, 9, 4, 1, 4, 4, 7, 6, 3, 7, 4, 0, 1, 1, 3,\n",
      "        7, 4, 0, 9, 6, 6, 8, 8, 2, 1, 8, 1, 6, 3, 0, 1, 5, 3, 6, 2, 4, 8, 0, 3,\n",
      "        1, 0, 3, 9, 0, 0, 2, 0, 7, 4, 5, 1, 7, 8, 6, 9, 6, 4, 1, 0, 8, 6, 7, 6,\n",
      "        4, 9, 2, 9, 9, 0, 8, 4, 8, 6, 9, 2, 8, 7, 3, 6, 3, 2, 4, 0, 3, 1, 3, 3,\n",
      "        4, 3, 9, 8, 4, 2, 3, 5, 2, 9, 2, 8, 7, 5, 3, 5, 0, 8, 4, 8, 1, 0, 1, 4,\n",
      "        5, 4, 0, 0, 0, 7, 6, 7, 8, 5, 6, 3, 6, 0, 2, 4, 7, 3, 6, 5, 7, 9, 7, 4,\n",
      "        3, 2, 7, 5, 0, 2, 3, 0, 7, 3, 8, 9, 4, 5, 4, 0, 2, 4, 4, 0, 8, 9, 4, 9,\n",
      "        8, 5, 1, 1, 2, 3, 9, 8, 1, 6, 5, 2, 6, 4, 6, 6])]\n"
     ]
    }
   ],
   "source": [
    "# 查看一个batch的数据\n",
    "data_iter = iter(train_loader)\n",
    "images, labels = data_iter.next()\n",
    "print(data)\n",
    "\n",
    "# print(images)\n",
    "# print(labels)"
   ]
  },
  {
   "cell_type": "code",
   "execution_count": 58,
   "id": "09576f1e",
   "metadata": {},
   "outputs": [
    {
     "name": "stdout",
     "output_type": "stream",
     "text": [
      "150\n",
      "25\n",
      "torch.Size([400, 1, 224, 224])\n",
      "torch.Size([400, 1, 224, 224])\n"
     ]
    }
   ],
   "source": [
    "# 查看train_loader和test_loader的长度\n",
    "print(len(train_loader))\n",
    "print(len(test_loader))\n",
    "# 查看train_loader和test_loader的维度\n",
    "for i, data in enumerate(train_loader):\n",
    "    print(data[0].shape)\n",
    "    break\n",
    "\n",
    "for i, data in enumerate(test_loader):\n",
    "    print(data[0].shape)\n",
    "    break"
   ]
  },
  {
   "cell_type": "code",
   "execution_count": 59,
   "id": "79f5bda1",
   "metadata": {},
   "outputs": [
    {
     "data": {
      "image/png": "[encoded data removed]",
      "text/plain": [
       "<Figure size 432x288 with 1 Axes>"
      ]
     },
     "metadata": {
      "needs_background": "light"
     },
     "output_type": "display_data"
    }
   ],
   "source": [
    "# 查看一张图片\n",
    "oneimg, label = train_data[0]\n",
    "oneimg = oneimg.numpy().transpose(1,2,0)\n",
    "mean = [0.5]\n",
    "std = [0.5]\n",
    "oneimg = oneimg * std + mean # 反归一化\n",
    "oneimg.resize(224,224)\n",
    "plt.imshow(oneimg)\n",
    "plt.show()"
   ]
  },
  {
   "cell_type": "code",
   "execution_count": 60,
   "id": "3cd45e74",
   "metadata": {},
   "outputs": [
    {
     "name": "stderr",
     "output_type": "stream",
     "text": [
      "Clipping input data to the valid range for imshow with RGB data ([0..1] for floats or [0..255] for integers).\n"
     ]
    },
    {
     "data": {
      "image/png": "[encoded data removed]",
      "text/plain": [
       "<Figure size 432x288 with 1 Axes>"
      ]
     },
     "metadata": {
      "needs_background": "light"
     },
     "output_type": "display_data"
    }
   ],
   "source": [
    "# 从三维生成一张黑白图片\n",
    "oneimg, label = train_data[0]\n",
    "grid = utils.make_grid(oneimg)\n",
    "grid = grid.numpy().transpose(1,2,0)\n",
    "mean = [0.5]\n",
    "std = [0.5]\n",
    "grid = grid * std + mean\n",
    "plt.imshow(grid)\n",
    "plt.show()"
   ]
  },
  {
   "cell_type": "code",
   "execution_count": 61,
   "id": "efbeded8",
   "metadata": {
    "scrolled": true
   },
   "outputs": [
    {
     "name": "stdout",
     "output_type": "stream",
     "text": [
      "tensor(4) tensor(2) tensor(5) tensor(0) tensor(5) tensor(4) tensor(1) tensor(7) \n",
      "tensor(5) tensor(1) tensor(4) tensor(0) tensor(3) tensor(0) tensor(4) tensor(9) \n",
      "tensor(1) tensor(0) tensor(3) tensor(8) tensor(7) tensor(8) tensor(2) tensor(4) \n",
      "tensor(5) tensor(5) tensor(2) tensor(1) tensor(6) tensor(7) tensor(8) tensor(7) \n",
      "tensor(8) tensor(2) tensor(5) tensor(5) tensor(3) tensor(3) tensor(5) tensor(8) \n",
      "tensor(6) tensor(0) tensor(2) tensor(0) tensor(4) tensor(4) tensor(2) tensor(4) \n",
      "tensor(1) tensor(9) tensor(6) tensor(4) tensor(0) tensor(0) tensor(6) tensor(6) \n",
      "tensor(3) tensor(5) tensor(8) tensor(0) tensor(4) tensor(7) tensor(6) tensor(9) \n"
     ]
    },
    {
     "name": "stderr",
     "output_type": "stream",
     "text": [
      "Clipping input data to the valid range for imshow with RGB data ([0..1] for floats or [0..255] for integers).\n"
     ]
    },
    {
     "data": {
      "image/png": "[encoded data removed]",
      "text/plain": [
       "<Figure size 432x288 with 1 Axes>"
      ]
     },
     "metadata": {
      "needs_background": "light"
     },
     "output_type": "display_data"
    }
   ],
   "source": [
    "# 输出一个batch的图片和标签\n",
    "images, labels = next(iter(train_loader))\n",
    "img = utils.make_grid(images)\n",
    "img = img.numpy().transpose(1,2,0)\n",
    "std = [0.5]\n",
    "mean = [0.5]\n",
    "img = img * std + mean\n",
    "for i in range(64):\n",
    "    print(labels[i], end=' ')\n",
    "    i += 1\n",
    "    if i % 8 == 0:\n",
    "        print(end='\\n')\n",
    "plt.imshow(img)\n",
    "plt.show()"
   ]
  },
  {
   "cell_type": "markdown",
   "id": "7a076c10",
   "metadata": {},
   "source": [
    "### Step 2. 网络搭建"
   ]
  },
  {
   "cell_type": "markdown",
   "id": "5ff539bf",
   "metadata": {},
   "source": [
    "1. 定义AlexNet\n",
    "（五个卷积层, 三个全连接层）"
   ]
  },
  {
   "cell_type": "code",
   "execution_count": 62,
   "id": "d0b6e695",
   "metadata": {},
   "outputs": [],
   "source": [
    "class AlexNet(nn.Module):\n",
    "    def __init__(self):\n",
    "        super(AlexNet, self).__init__()\n",
    "        self.conv = nn.Sequential(\n",
    "            nn.Conv2d(1, 96, 11, 4, 2), # in_channels, out_channels, kernel_size, stride, padding\n",
    "            nn.ReLU(),\n",
    "            nn.MaxPool2d(3, 2), # kernel_size, stride\n",
    "            # 减小卷积窗口，使用填充为2来使得输入与输出的高和宽一致，且增大输出通道数\n",
    "            nn.Conv2d(96, 256, 5, 1, 2),\n",
    "            nn.ReLU(),\n",
    "            nn.MaxPool2d(3, 2),\n",
    "            # 连续3个卷积层，且使用更小的卷积窗口。除了最后的卷积层外，进一步增大了输出通道数。\n",
    "            nn.Conv2d(256, 384, 3, 1, 1),\n",
    "            nn.ReLU(),\n",
    "            nn.Conv2d(384, 384, 3, 1, 1),\n",
    "            nn.ReLU(),\n",
    "            nn.Conv2d(384, 256, 3, 1, 1),\n",
    "            nn.ReLU(),\n",
    "            nn.MaxPool2d(3, 2)\n",
    "        )\n",
    "        self.fc = nn.Sequential(\n",
    "            nn.Linear(256*6*6, 4096), # 这里的5为经过5层卷积层之后的特征图大小，需根据实际情况更改\n",
    "            nn.ReLU(),\n",
    "            nn.Dropout(0.5),\n",
    "            nn.Linear(4096, 4096),\n",
    "            nn.ReLU(),\n",
    "            nn.Dropout(0.5),\n",
    "            nn.Linear(4096, 10), # 这里的10表示10分类，可根据实际的需求更改这个值\n",
    "        )\n",
    "\n",
    "    def forward(self, img):\n",
    "        feature = self.conv(img)\n",
    "        output = self.fc(feature.view(img.shape[0], -1))\n",
    "        return output\n",
    "    \n",
    "net = AlexNet()"
   ]
  },
  {
   "cell_type": "markdown",
   "id": "705ca7f8",
   "metadata": {},
   "source": [
    "2.定义损失函数和优化器"
   ]
  },
  {
   "cell_type": "code",
   "execution_count": 63,
   "id": "49c55488",
   "metadata": {},
   "outputs": [],
   "source": [
    "import torch.optim as optim\n",
    "# loss\n",
    "crition = nn.CrossEntropyLoss() # crossentropyloss里面封装了softmax,如果使用NLLLoss的话需要在定义的网络输出后面使用softmax将其转化为概率分布，然后预测的结果与labels做NLLLoss\n",
    "# optimizer\n",
    "optimizer = optim.SGD(net.parameters(), lr=0.001, momentum=0.9)"
   ]
  },
  {
   "cell_type": "markdown",
   "id": "c857ce0c",
   "metadata": {},
   "source": [
    "### Step 3. 训练模型\n",
    "1. 加载训练数据与标签，将其放置在GPU上\n",
    "2. 前向+后向+优化\n",
    "3. 保存模型"
   ]
  },
  {
   "cell_type": "code",
   "execution_count": null,
   "id": "b8f18671",
   "metadata": {},
   "outputs": [
    {
     "name": "stdout",
     "output_type": "stream",
     "text": [
      "start training...\n",
      "\n",
      "start training the 0 epoch...\n",
      "iteration:  0\n",
      "iteration:  1\n",
      "iteration:  2\n",
      "iteration:  3\n"
     ]
    }
   ],
   "source": [
    "import time\n",
    "train_accs = []\n",
    "train_loss = []\n",
    "test_accs = []\n",
    "device = torch.device('cuda:0' if torch.cuda.is_available() else 'cpu')\n",
    "\n",
    "net = net.to(device) # 将模型放在device上\n",
    "net.train()\n",
    "\n",
    "start_time  = time.time()\n",
    "print('start training...\\n')\n",
    "for epoch in range(10): # 一共训练10个epoch\n",
    "    print(f'start training the {epoch} epoch...')\n",
    "    running_loss = 0\n",
    "    for i, data in enumerate(train_loader, 0):\n",
    "        print('iteration: ', i)\n",
    "        # data的格式[inputs, labels]\n",
    "        # inputs, labels = data\n",
    "        inputs, labels = data[0].to(device), data[1].to(device) # 将样本放在device上\n",
    "        # 初始为0， 清除上个batch的梯度信息\n",
    "        optimizer.zero_grad()\n",
    "        # 前向+后向+优化\n",
    "        outputs = net(inputs)\n",
    "        loss = crition(outputs, labels)\n",
    "        loss.backward()\n",
    "        optimizer.step()\n",
    "        \n",
    "        # 打印10个batch输出的平均loss\n",
    "        running_loss += loss\n",
    "        if i%10 == 9:\n",
    "            print('[%d, %d] loss: % .3f' % (epoch+1, i+1, running_loss/100))\n",
    "            running_loss = 0\n",
    "        # 在training_loss中每个batch添加当前的loss\n",
    "        train_loss.append(loss.item())\n",
    "        \n",
    "        #一个batch中的准确率\n",
    "        correct = 0\n",
    "        total = 0\n",
    "        _, predicted = torch.max(outputs.data, 1) # predicted是output中的最大值对应的索引\n",
    "        total = labels.size(0) # labels的长度\n",
    "        correct = (predicted==labels).sum().item() # 一个batch中预测正确的数量\n",
    "        train_accs.append(100*correct/total)\n",
    "        \n",
    "end_time = time.time()\n",
    "total_time = end_time = start_time\n",
    "print('Finished Training!\\n')\n",
    "print('Totoal Consuming Time is: ', total_time)"
   ]
  },
  {
   "cell_type": "code",
   "execution_count": 18,
   "id": "d601bd2d",
   "metadata": {},
   "outputs": [],
   "source": [
    "path = './mnist_net_alexnet.pth'\n",
    "torch.save(net.state_dict(), path)"
   ]
  },
  {
   "cell_type": "markdown",
   "id": "29ea6359",
   "metadata": {},
   "source": [
    "### Step 4. 评估模型"
   ]
  },
  {
   "cell_type": "markdown",
   "id": "93148099",
   "metadata": {},
   "source": [
    "画图"
   ]
  },
  {
   "cell_type": "code",
   "execution_count": 14,
   "id": "56c200d5",
   "metadata": {},
   "outputs": [],
   "source": [
    "def draw_train_process(title, iters, costs, accs, label_cost, label_acc):\n",
    "    plt.title(title, fontsize=24)\n",
    "    plt.xlabel('iter', fontsize=20)\n",
    "    plt.ylabel('acc(\\%)', fontsize=20)\n",
    "    plt.plot(iters, costs, color='red', label=label_cost)\n",
    "    plt.plot(iters, accs, color='green', label=label_acc)\n",
    "    plt.legend()\n",
    "    plt.grid()\n",
    "    plt.show()"
   ]
  },
  {
   "cell_type": "code",
   "execution_count": 15,
   "id": "9420e70c",
   "metadata": {},
   "outputs": [
    {
     "ename": "NameError",
     "evalue": "name 'train_accs' is not defined",
     "output_type": "error",
     "traceback": [
      "\u001b[0;31m---------------------------------------------------------------------------\u001b[0m",
      "\u001b[0;31mNameError\u001b[0m                                 Traceback (most recent call last)",
      "Input \u001b[0;32mIn [15]\u001b[0m, in \u001b[0;36m<cell line: 1>\u001b[0;34m()\u001b[0m\n\u001b[0;32m----> 1\u001b[0m train_iters \u001b[38;5;241m=\u001b[39m \u001b[38;5;28mrange\u001b[39m(\u001b[38;5;28mlen\u001b[39m(\u001b[43mtrain_accs\u001b[49m))\n\u001b[1;32m      2\u001b[0m draw_train_process(\u001b[38;5;124m'\u001b[39m\u001b[38;5;124mTraining\u001b[39m\u001b[38;5;124m'\u001b[39m, train_iters, train_loss, train_accs, \u001b[38;5;124m'\u001b[39m\u001b[38;5;124mtraining_loss\u001b[39m\u001b[38;5;124m'\u001b[39m, \u001b[38;5;124m'\u001b[39m\u001b[38;5;124mtraining_acc\u001b[39m\u001b[38;5;124m'\u001b[39m)\n",
      "\u001b[0;31mNameError\u001b[0m: name 'train_accs' is not defined"
     ]
    }
   ],
   "source": [
    "train_iters = range(len(train_accs))\n",
    "draw_train_process('Training', train_iters, train_loss, train_accs, 'training_loss', 'training_acc')"
   ]
  },
  {
   "cell_type": "markdown",
   "id": "e54bbfba",
   "metadata": {},
   "source": [
    "测试一个batch的分类情况"
   ]
  },
  {
   "cell_type": "code",
   "execution_count": 21,
   "id": "7ccce687",
   "metadata": {},
   "outputs": [
    {
     "name": "stderr",
     "output_type": "stream",
     "text": [
      "Clipping input data to the valid range for imshow with RGB data ([0..1] for floats or [0..255] for integers).\n"
     ]
    },
    {
     "data": {
      "image/png": "[encoded data removed]",
      "text/plain": [
       "<Figure size 432x288 with 1 Axes>"
      ]
     },
     "metadata": {
      "needs_background": "light"
     },
     "output_type": "display_data"
    },
    {
     "name": "stdout",
     "output_type": "stream",
     "text": [
      "Ground Truth:  8 6 6 1 4 7 4 4 1 4 7 2 1 1 0 9 7 1 5 9 5 8 0 2 1 2 1 7 7 6 6 3 1 1 9 0 7 6 5 6 6 3 2 3 7 9 0 9 3 2 9 3 7 2 0 6 3 1 9 1 5 6 0 2\n"
     ]
    }
   ],
   "source": [
    "dataiter = iter(test_loader)\n",
    "images, labels = dataiter.next()\n",
    "\n",
    "# print images\n",
    "test_img = utils.make_grid(images)\n",
    "test_img = test_img.numpy().transpose(1,2,0)\n",
    "std = [0.5]\n",
    "mean = [0.5]\n",
    "test_img = test_img * std + mean\n",
    "plt.imshow(test_img)\n",
    "plt.show()\n",
    "print('Ground Truth: ', ' '.join('%d' % labels[j] for j in range(64)))"
   ]
  },
  {
   "cell_type": "code",
   "execution_count": 22,
   "id": "377e7262",
   "metadata": {},
   "outputs": [],
   "source": [
    "test_net = MyCNN()\n",
    "test_net.load_state_dict(torch.load(path))\n",
    "outputs = test_net(images)\n",
    "# print(outputs)\n",
    "# print(outputs.size())"
   ]
  },
  {
   "cell_type": "markdown",
   "id": "3b5fbd0e",
   "metadata": {},
   "source": [
    "输出的是每一类对应的概率，所以需要选择max来确定最终输出的类别\n",
    "dim=1表示选择行的最大索引"
   ]
  },
  {
   "cell_type": "code",
   "execution_count": 23,
   "id": "b1883e67",
   "metadata": {},
   "outputs": [
    {
     "name": "stdout",
     "output_type": "stream",
     "text": [
      "Predicted:  8 6 6 1 4 7 4 4 1 4 7 2 1 8 0 9 7 1 5 9 5 8 0 2 1 2 1 7 7 6 6 3 1 1 9 0 9 6 5 6 6 3 2 3 7 9 0 9 3 2 9 3 7 2 0 6 3 1 9 1 5 6 0 2\n"
     ]
    }
   ],
   "source": [
    "_, predicted = torch.max(outputs, dim=1)\n",
    "print('Predicted: ', ' '.join('%d' % predicted[j] for j in range(64)))"
   ]
  },
  {
   "cell_type": "markdown",
   "id": "d606733f",
   "metadata": {},
   "source": [
    "测试集上面整体的准确率"
   ]
  },
  {
   "cell_type": "code",
   "execution_count": 24,
   "id": "d53d62df",
   "metadata": {},
   "outputs": [
    {
     "name": "stdout",
     "output_type": "stream",
     "text": [
      "Accuracy of the network on the test images: 98 %\n"
     ]
    }
   ],
   "source": [
    "correct = 0\n",
    "total = 0\n",
    "with torch.no_grad(): # 进行评测时网络不更新梯度\n",
    "    for images, labels in test_loader:\n",
    "        outputs = test_net(images)\n",
    "        _, predicts = torch.max(outputs, dim=1)\n",
    "        total += labels.size(0)\n",
    "        correct += (predicts == labels).sum().item()\n",
    "print('Accuracy of the network on the test images: %d %%' % (100*correct/total))"
   ]
  },
  {
   "cell_type": "markdown",
   "id": "b9706a43",
   "metadata": {},
   "source": [
    "10个类别的准确率"
   ]
  },
  {
   "cell_type": "code",
   "execution_count": 25,
   "id": "4f0916c5",
   "metadata": {
    "scrolled": true
   },
   "outputs": [
    {
     "name": "stdout",
     "output_type": "stream",
     "text": [
      "Accuracy of 0 :                               99 %\n",
      "Accuracy of 1 :                               98 %\n",
      "Accuracy of 2 :                               99 %\n",
      "Accuracy of 3 :                              100 %\n",
      "Accuracy of 4 :                               99 %\n",
      "Accuracy of 5 :                               96 %\n",
      "Accuracy of 6 :                               99 %\n",
      "Accuracy of 7 :                               93 %\n",
      "Accuracy of 8 :                               96 %\n",
      "Accuracy of 9 :                               99 %\n"
     ]
    }
   ],
   "source": [
    "class_correct = list(0. for i in range(10))\n",
    "class_total = list(0. for i in range(10))\n",
    "with torch.no_grad(): # 进行评测时网络不更新梯度\n",
    "    for data in test_loader:\n",
    "        images, labels = data\n",
    "#         print(labels)\n",
    "        outputs = test_net(images)\n",
    "        _, predicted = torch.max(outputs, 1)\n",
    "        c = (predicted==labels)\n",
    "#         print(c)\n",
    "        for i in range(10):\n",
    "            label = labels[i]\n",
    "            class_correct[label] += c[i].item()\n",
    "            class_total[label] += 1\n",
    "            \n",
    "for i in range(10):\n",
    "    print('Accuracy of %d : %32d %%' % (i, 100*class_correct[i] /class_total[i]))\n",
    "            "
   ]
  }
 ],
 "metadata": {
  "kernelspec": {
   "display_name": "Python [conda env:pytorch] *",
   "language": "python",
   "name": "conda-env-pytorch-py"
  },
  "language_info": {
   "codemirror_mode": {
    "name": "ipython",
    "version": 3
   },
   "file_extension": ".py",
   "mimetype": "text/x-python",
   "name": "python",
   "nbconvert_exporter": "python",
   "pygments_lexer": "ipython3",
   "version": "3.8.13"
  }
 },
 "nbformat": 4,
 "nbformat_minor": 5
}
