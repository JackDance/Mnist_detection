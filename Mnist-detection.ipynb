{
 "cells": [
  {
   "cell_type": "code",
   "execution_count": 8,
   "id": "384b4651",
   "metadata": {},
   "outputs": [],
   "source": [
    "# 导入需要的包\n",
    "import numpy as np\n",
    "import torch\n",
    "from torch import nn\n",
    "from PIL import Image\n",
    "import matplotlib.pyplot as plt\n",
    "import os\n",
    "from torchvision import datasets, models, transforms, utils"
   ]
  },
  {
   "cell_type": "markdown",
   "id": "0bf185cb",
   "metadata": {},
   "source": [
    "### Step1. 准备数据"
   ]
  },
  {
   "cell_type": "code",
   "execution_count": 9,
   "id": "47e61955",
   "metadata": {},
   "outputs": [],
   "source": [
    "# 数据归一化\n",
    "transform = transforms.Compose([transforms.ToTensor(),\n",
    "                               transforms.Normalize(mean=[0.1307], std=[0.3081])])"
   ]
  },
  {
   "cell_type": "code",
   "execution_count": 10,
   "id": "4831890f",
   "metadata": {},
   "outputs": [
    {
     "name": "stderr",
     "output_type": "stream",
     "text": [
      "/home/jack/anaconda3/envs/pytorch/lib/python3.8/site-packages/torchvision/datasets/mnist.py:498: UserWarning: The given NumPy array is not writeable, and PyTorch does not support non-writeable tensors. This means you can write to the underlying (supposedly non-writeable) NumPy array using the tensor. You may want to copy the array to protect its data or make it writeable before converting it to a tensor. This type of warning will be suppressed for the rest of this program. (Triggered internally at  ../torch/csrc/utils/tensor_numpy.cpp:180.)\n",
      "  return torch.from_numpy(parsed.astype(m[2], copy=False)).view(*s)\n"
     ]
    }
   ],
   "source": [
    "# 下载训练和测试数据\n",
    "train_data = datasets.MNIST(root='./data',\n",
    "                      transform=transform,\n",
    "                      train=True,\n",
    "                      download=True)\n",
    "test_data = datasets.MNIST(root='./data',\n",
    "                      transform=transform,\n",
    "                      train=False)"
   ]
  },
  {
   "cell_type": "code",
   "execution_count": 11,
   "id": "b104f454",
   "metadata": {},
   "outputs": [
    {
     "name": "stdout",
     "output_type": "stream",
     "text": [
      "(tensor([[[-0.4242, -0.4242, -0.4242, -0.4242, -0.4242, -0.4242, -0.4242,\n",
      "          -0.4242, -0.4242, -0.4242, -0.4242, -0.4242, -0.4242, -0.4242,\n",
      "          -0.4242, -0.4242, -0.4242, -0.4242, -0.4242, -0.4242, -0.4242,\n",
      "          -0.4242, -0.4242, -0.4242, -0.4242, -0.4242, -0.4242, -0.4242],\n",
      "         [-0.4242, -0.4242, -0.4242, -0.4242, -0.4242, -0.4242, -0.4242,\n",
      "          -0.4242, -0.4242, -0.4242, -0.4242, -0.4242, -0.4242, -0.4242,\n",
      "          -0.4242, -0.4242, -0.4242, -0.4242, -0.4242, -0.4242, -0.4242,\n",
      "          -0.4242, -0.4242, -0.4242, -0.4242, -0.4242, -0.4242, -0.4242],\n",
      "         [-0.4242, -0.4242, -0.4242, -0.4242, -0.4242, -0.4242, -0.4242,\n",
      "          -0.4242, -0.4242, -0.4242, -0.4242, -0.4242, -0.4242, -0.4242,\n",
      "          -0.4242, -0.4242, -0.4242, -0.4242, -0.4242, -0.4242, -0.4242,\n",
      "          -0.4242, -0.4242, -0.4242, -0.4242, -0.4242, -0.4242, -0.4242],\n",
      "         [-0.4242, -0.4242, -0.4242, -0.4242, -0.4242, -0.4242, -0.4242,\n",
      "          -0.4242, -0.4242, -0.4242, -0.4242, -0.4242, -0.4242, -0.4242,\n",
      "          -0.4242, -0.4242, -0.4242, -0.4242, -0.4242, -0.4242, -0.4242,\n",
      "          -0.4242, -0.4242, -0.4242, -0.4242, -0.4242, -0.4242, -0.4242],\n",
      "         [-0.4242, -0.4242, -0.4242, -0.4242, -0.4242, -0.4242, -0.4242,\n",
      "          -0.4242, -0.4242, -0.4242, -0.4242, -0.4242, -0.4242, -0.4242,\n",
      "          -0.4242, -0.4242, -0.4242, -0.4242, -0.4242, -0.4242, -0.4242,\n",
      "          -0.4242, -0.4242, -0.4242, -0.4242, -0.4242, -0.4242, -0.4242],\n",
      "         [-0.4242, -0.4242, -0.4242, -0.4242, -0.4242, -0.4242, -0.4242,\n",
      "          -0.4242, -0.4242, -0.4242, -0.4242, -0.4242, -0.3860, -0.1951,\n",
      "          -0.1951, -0.1951,  1.1795,  1.3068,  1.8032, -0.0933,  1.6887,\n",
      "           2.8215,  2.7197,  1.1923, -0.4242, -0.4242, -0.4242, -0.4242],\n",
      "         [-0.4242, -0.4242, -0.4242, -0.4242, -0.4242, -0.4242, -0.4242,\n",
      "          -0.4242, -0.0424,  0.0340,  0.7722,  1.5359,  1.7396,  2.7960,\n",
      "           2.7960,  2.7960,  2.7960,  2.7960,  2.4396,  1.7650,  2.7960,\n",
      "           2.6560,  2.0578,  0.3904, -0.4242, -0.4242, -0.4242, -0.4242],\n",
      "         [-0.4242, -0.4242, -0.4242, -0.4242, -0.4242, -0.4242, -0.4242,\n",
      "           0.1995,  2.6051,  2.7960,  2.7960,  2.7960,  2.7960,  2.7960,\n",
      "           2.7960,  2.7960,  2.7960,  2.7706,  0.7595,  0.6195,  0.6195,\n",
      "           0.2886,  0.0722, -0.4242, -0.4242, -0.4242, -0.4242, -0.4242],\n",
      "         [-0.4242, -0.4242, -0.4242, -0.4242, -0.4242, -0.4242, -0.4242,\n",
      "          -0.1951,  2.3633,  2.7960,  2.7960,  2.7960,  2.7960,  2.7960,\n",
      "           2.0960,  1.8923,  2.7197,  2.6433, -0.4242, -0.4242, -0.4242,\n",
      "          -0.4242, -0.4242, -0.4242, -0.4242, -0.4242, -0.4242, -0.4242],\n",
      "         [-0.4242, -0.4242, -0.4242, -0.4242, -0.4242, -0.4242, -0.4242,\n",
      "          -0.4242,  0.5940,  1.5614,  0.9377,  2.7960,  2.7960,  2.1851,\n",
      "          -0.2842, -0.4242,  0.1231,  1.5359, -0.4242, -0.4242, -0.4242,\n",
      "          -0.4242, -0.4242, -0.4242, -0.4242, -0.4242, -0.4242, -0.4242],\n",
      "         [-0.4242, -0.4242, -0.4242, -0.4242, -0.4242, -0.4242, -0.4242,\n",
      "          -0.4242, -0.4242, -0.2460, -0.4115,  1.5359,  2.7960,  0.7213,\n",
      "          -0.4242, -0.4242, -0.4242, -0.4242, -0.4242, -0.4242, -0.4242,\n",
      "          -0.4242, -0.4242, -0.4242, -0.4242, -0.4242, -0.4242, -0.4242],\n",
      "         [-0.4242, -0.4242, -0.4242, -0.4242, -0.4242, -0.4242, -0.4242,\n",
      "          -0.4242, -0.4242, -0.4242, -0.4242,  1.3450,  2.7960,  1.9942,\n",
      "          -0.3988, -0.4242, -0.4242, -0.4242, -0.4242, -0.4242, -0.4242,\n",
      "          -0.4242, -0.4242, -0.4242, -0.4242, -0.4242, -0.4242, -0.4242],\n",
      "         [-0.4242, -0.4242, -0.4242, -0.4242, -0.4242, -0.4242, -0.4242,\n",
      "          -0.4242, -0.4242, -0.4242, -0.4242, -0.2842,  1.9942,  2.7960,\n",
      "           0.4668, -0.4242, -0.4242, -0.4242, -0.4242, -0.4242, -0.4242,\n",
      "          -0.4242, -0.4242, -0.4242, -0.4242, -0.4242, -0.4242, -0.4242],\n",
      "         [-0.4242, -0.4242, -0.4242, -0.4242, -0.4242, -0.4242, -0.4242,\n",
      "          -0.4242, -0.4242, -0.4242, -0.4242, -0.4242,  0.0213,  2.6433,\n",
      "           2.4396,  1.6123,  0.9504, -0.4115, -0.4242, -0.4242, -0.4242,\n",
      "          -0.4242, -0.4242, -0.4242, -0.4242, -0.4242, -0.4242, -0.4242],\n",
      "         [-0.4242, -0.4242, -0.4242, -0.4242, -0.4242, -0.4242, -0.4242,\n",
      "          -0.4242, -0.4242, -0.4242, -0.4242, -0.4242, -0.4242,  0.6068,\n",
      "           2.6306,  2.7960,  2.7960,  1.0904, -0.1060, -0.4242, -0.4242,\n",
      "          -0.4242, -0.4242, -0.4242, -0.4242, -0.4242, -0.4242, -0.4242],\n",
      "         [-0.4242, -0.4242, -0.4242, -0.4242, -0.4242, -0.4242, -0.4242,\n",
      "          -0.4242, -0.4242, -0.4242, -0.4242, -0.4242, -0.4242, -0.4242,\n",
      "           0.1486,  1.9432,  2.7960,  2.7960,  1.4850, -0.0806, -0.4242,\n",
      "          -0.4242, -0.4242, -0.4242, -0.4242, -0.4242, -0.4242, -0.4242],\n",
      "         [-0.4242, -0.4242, -0.4242, -0.4242, -0.4242, -0.4242, -0.4242,\n",
      "          -0.4242, -0.4242, -0.4242, -0.4242, -0.4242, -0.4242, -0.4242,\n",
      "          -0.4242, -0.2206,  0.7595,  2.7833,  2.7960,  1.9560, -0.4242,\n",
      "          -0.4242, -0.4242, -0.4242, -0.4242, -0.4242, -0.4242, -0.4242],\n",
      "         [-0.4242, -0.4242, -0.4242, -0.4242, -0.4242, -0.4242, -0.4242,\n",
      "          -0.4242, -0.4242, -0.4242, -0.4242, -0.4242, -0.4242, -0.4242,\n",
      "          -0.4242, -0.4242, -0.4242,  2.7451,  2.7960,  2.7451,  0.3904,\n",
      "          -0.4242, -0.4242, -0.4242, -0.4242, -0.4242, -0.4242, -0.4242],\n",
      "         [-0.4242, -0.4242, -0.4242, -0.4242, -0.4242, -0.4242, -0.4242,\n",
      "          -0.4242, -0.4242, -0.4242, -0.4242, -0.4242, -0.4242, -0.4242,\n",
      "           0.1613,  1.2305,  1.9051,  2.7960,  2.7960,  2.2105, -0.3988,\n",
      "          -0.4242, -0.4242, -0.4242, -0.4242, -0.4242, -0.4242, -0.4242],\n",
      "         [-0.4242, -0.4242, -0.4242, -0.4242, -0.4242, -0.4242, -0.4242,\n",
      "          -0.4242, -0.4242, -0.4242, -0.4242, -0.4242,  0.0722,  1.4596,\n",
      "           2.4906,  2.7960,  2.7960,  2.7960,  2.7578,  1.8923, -0.4242,\n",
      "          -0.4242, -0.4242, -0.4242, -0.4242, -0.4242, -0.4242, -0.4242],\n",
      "         [-0.4242, -0.4242, -0.4242, -0.4242, -0.4242, -0.4242, -0.4242,\n",
      "          -0.4242, -0.4242, -0.4242, -0.1187,  1.0268,  2.3887,  2.7960,\n",
      "           2.7960,  2.7960,  2.7960,  2.1342,  0.5686, -0.4242, -0.4242,\n",
      "          -0.4242, -0.4242, -0.4242, -0.4242, -0.4242, -0.4242, -0.4242],\n",
      "         [-0.4242, -0.4242, -0.4242, -0.4242, -0.4242, -0.4242, -0.4242,\n",
      "          -0.4242, -0.1315,  0.4159,  2.2869,  2.7960,  2.7960,  2.7960,\n",
      "           2.7960,  2.0960,  0.6068, -0.3988, -0.4242, -0.4242, -0.4242,\n",
      "          -0.4242, -0.4242, -0.4242, -0.4242, -0.4242, -0.4242, -0.4242],\n",
      "         [-0.4242, -0.4242, -0.4242, -0.4242, -0.4242, -0.4242, -0.1951,\n",
      "           1.7523,  2.3633,  2.7960,  2.7960,  2.7960,  2.7960,  2.0578,\n",
      "           0.5940, -0.3097, -0.4242, -0.4242, -0.4242, -0.4242, -0.4242,\n",
      "          -0.4242, -0.4242, -0.4242, -0.4242, -0.4242, -0.4242, -0.4242],\n",
      "         [-0.4242, -0.4242, -0.4242, -0.4242,  0.2758,  1.7650,  2.4524,\n",
      "           2.7960,  2.7960,  2.7960,  2.7960,  2.6815,  1.2686, -0.2842,\n",
      "          -0.4242, -0.4242, -0.4242, -0.4242, -0.4242, -0.4242, -0.4242,\n",
      "          -0.4242, -0.4242, -0.4242, -0.4242, -0.4242, -0.4242, -0.4242],\n",
      "         [-0.4242, -0.4242, -0.4242, -0.4242,  1.3068,  2.7960,  2.7960,\n",
      "           2.7960,  2.2742,  1.2941,  1.2559, -0.2206, -0.4242, -0.4242,\n",
      "          -0.4242, -0.4242, -0.4242, -0.4242, -0.4242, -0.4242, -0.4242,\n",
      "          -0.4242, -0.4242, -0.4242, -0.4242, -0.4242, -0.4242, -0.4242],\n",
      "         [-0.4242, -0.4242, -0.4242, -0.4242, -0.4242, -0.4242, -0.4242,\n",
      "          -0.4242, -0.4242, -0.4242, -0.4242, -0.4242, -0.4242, -0.4242,\n",
      "          -0.4242, -0.4242, -0.4242, -0.4242, -0.4242, -0.4242, -0.4242,\n",
      "          -0.4242, -0.4242, -0.4242, -0.4242, -0.4242, -0.4242, -0.4242],\n",
      "         [-0.4242, -0.4242, -0.4242, -0.4242, -0.4242, -0.4242, -0.4242,\n",
      "          -0.4242, -0.4242, -0.4242, -0.4242, -0.4242, -0.4242, -0.4242,\n",
      "          -0.4242, -0.4242, -0.4242, -0.4242, -0.4242, -0.4242, -0.4242,\n",
      "          -0.4242, -0.4242, -0.4242, -0.4242, -0.4242, -0.4242, -0.4242],\n",
      "         [-0.4242, -0.4242, -0.4242, -0.4242, -0.4242, -0.4242, -0.4242,\n",
      "          -0.4242, -0.4242, -0.4242, -0.4242, -0.4242, -0.4242, -0.4242,\n",
      "          -0.4242, -0.4242, -0.4242, -0.4242, -0.4242, -0.4242, -0.4242,\n",
      "          -0.4242, -0.4242, -0.4242, -0.4242, -0.4242, -0.4242, -0.4242]]]), 5)\n",
      "60000\n",
      "10000\n"
     ]
    }
   ],
   "source": [
    "# 输出一个样本，一个样本是由一张图片和对应的标签组成的\n",
    "for i, data in enumerate(train_data):\n",
    "    print(data)\n",
    "    break\n",
    "# 输出训练和测试图片数\n",
    "print(len(train_data))\n",
    "print(len(test_data))"
   ]
  },
  {
   "cell_type": "code",
   "execution_count": 12,
   "id": "a8ec0cb4",
   "metadata": {},
   "outputs": [],
   "source": [
    "# 加载训练和测试数据\n",
    "train_loader = torch.utils.data.DataLoader(train_data, batch_size=64, shuffle=True, num_workers=2)\n",
    "test_loader = torch.utils.data.DataLoader(test_data, batch_size=64, shuffle=True, num_workers=2)"
   ]
  },
  {
   "cell_type": "code",
   "execution_count": 13,
   "id": "0f7bbb3d",
   "metadata": {},
   "outputs": [
    {
     "name": "stdout",
     "output_type": "stream",
     "text": [
      "tensor([0, 1, 5, 6, 7, 3, 4, 2, 3, 0, 4, 8, 9, 8, 7, 3, 3, 7, 7, 8, 1, 0, 1, 4,\n",
      "        1, 7, 0, 8, 5, 0, 3, 2, 6, 9, 5, 1, 1, 3, 9, 2, 9, 5, 7, 1, 5, 6, 7, 2,\n",
      "        8, 4, 7, 1, 1, 1, 4, 0, 6, 0, 7, 0, 6, 4, 7, 5])\n"
     ]
    }
   ],
   "source": [
    "# 查看一个batch的数据\n",
    "data_iter = iter(train_loader)\n",
    "images, labels = data_iter.next()\n",
    "print(labels)"
   ]
  },
  {
   "cell_type": "code",
   "execution_count": 14,
   "id": "09576f1e",
   "metadata": {},
   "outputs": [
    {
     "name": "stdout",
     "output_type": "stream",
     "text": [
      "938\n",
      "157\n",
      "torch.Size([64, 1, 28, 28])\n",
      "torch.Size([64, 1, 28, 28])\n"
     ]
    }
   ],
   "source": [
    "# 查看train_loader和test_loader的长度\n",
    "print(len(train_loader))\n",
    "print(len(test_loader))\n",
    "# 查看train_loader和test_loader的维度\n",
    "for i, data in enumerate(train_loader):\n",
    "    print(data[0].shape)\n",
    "    break\n",
    "\n",
    "for i, data in enumerate(test_loader):\n",
    "    print(data[0].shape)\n",
    "    break"
   ]
  },
  {
   "cell_type": "code",
   "execution_count": 15,
   "id": "79f5bda1",
   "metadata": {},
   "outputs": [
    {
     "data": {
      "image/png": "[encoded data removed]",
      "text/plain": [
       "<Figure size 432x288 with 1 Axes>"
      ]
     },
     "metadata": {
      "needs_background": "light"
     },
     "output_type": "display_data"
    }
   ],
   "source": [
    "# 查看一张图片\n",
    "oneimg, label = train_data[0]\n",
    "oneimg = oneimg.numpy().transpose(1,2,0)\n",
    "mean = [0.5]\n",
    "std = [0.5]\n",
    "oneimg = oneimg * std + mean\n",
    "oneimg.resize(28,28)\n",
    "plt.imshow(oneimg)\n",
    "plt.show()"
   ]
  },
  {
   "cell_type": "code",
   "execution_count": 16,
   "id": "3cd45e74",
   "metadata": {},
   "outputs": [
    {
     "name": "stderr",
     "output_type": "stream",
     "text": [
      "Clipping input data to the valid range for imshow with RGB data ([0..1] for floats or [0..255] for integers).\n"
     ]
    },
    {
     "data": {
      "image/png": "[encoded data removed]",
      "text/plain": [
       "<Figure size 432x288 with 1 Axes>"
      ]
     },
     "metadata": {
      "needs_background": "light"
     },
     "output_type": "display_data"
    }
   ],
   "source": [
    "# 从三维生成一张黑白图片\n",
    "oneimg, label = train_data[0]\n",
    "grid = utils.make_grid(oneimg)\n",
    "grid = grid.numpy().transpose(1,2,0)\n",
    "mean = [0.5]\n",
    "std = [0.5]\n",
    "grid = grid * std + mean\n",
    "plt.imshow(grid)\n",
    "plt.show()"
   ]
  },
  {
   "cell_type": "code",
   "execution_count": 17,
   "id": "efbeded8",
   "metadata": {
    "scrolled": true
   },
   "outputs": [
    {
     "name": "stderr",
     "output_type": "stream",
     "text": [
      "Clipping input data to the valid range for imshow with RGB data ([0..1] for floats or [0..255] for integers).\n"
     ]
    },
    {
     "name": "stdout",
     "output_type": "stream",
     "text": [
      "tensor(9) tensor(3) tensor(9) tensor(2) tensor(0) tensor(2) tensor(3) tensor(3) \n",
      "tensor(8) tensor(7) tensor(8) tensor(2) tensor(0) tensor(4) tensor(9) tensor(9) \n",
      "tensor(9) tensor(1) tensor(2) tensor(8) tensor(3) tensor(4) tensor(4) tensor(8) \n",
      "tensor(3) tensor(7) tensor(5) tensor(9) tensor(7) tensor(6) tensor(1) tensor(8) \n",
      "tensor(4) tensor(6) tensor(1) tensor(2) tensor(5) tensor(7) tensor(6) tensor(6) \n",
      "tensor(2) tensor(4) tensor(5) tensor(6) tensor(2) tensor(8) tensor(0) tensor(7) \n",
      "tensor(9) tensor(8) tensor(6) tensor(3) tensor(6) tensor(5) tensor(4) tensor(4) \n",
      "tensor(2) tensor(9) tensor(2) tensor(1) tensor(6) tensor(9) tensor(7) tensor(7) \n"
     ]
    },
    {
     "data": {
      "image/png": "[encoded data removed]",
      "text/plain": [
       "<Figure size 432x288 with 1 Axes>"
      ]
     },
     "metadata": {
      "needs_background": "light"
     },
     "output_type": "display_data"
    }
   ],
   "source": [
    "# 输出一个batch的图片和标签\n",
    "images, labels = next(iter(train_loader))\n",
    "img = utils.make_grid(images)\n",
    "img = img.numpy().transpose(1,2,0)\n",
    "std = [0.5]\n",
    "mean = [0.5]\n",
    "img = img * std + mean\n",
    "for i in range(64):\n",
    "    print(labels[i], end=' ')\n",
    "    i += 1\n",
    "    if i % 8 == 0:\n",
    "        print(end='\\n')\n",
    "plt.imshow(img)\n",
    "plt.show()"
   ]
  },
  {
   "cell_type": "markdown",
   "id": "7a076c10",
   "metadata": {},
   "source": [
    "### Step 2. 网络搭建"
   ]
  },
  {
   "cell_type": "markdown",
   "id": "5ff539bf",
   "metadata": {},
   "source": [
    "1. 自定义一个网络\n",
    "（两个卷积层, 三个全连接层）"
   ]
  },
  {
   "cell_type": "code",
   "execution_count": 18,
   "id": "d0b6e695",
   "metadata": {},
   "outputs": [],
   "source": [
    "import torch.nn.functional as F\n",
    "\n",
    "class MyCNN(nn.Module):\n",
    "    def __init__(self):\n",
    "        super(MyCNN, self).__init__()\n",
    "        self.conv1 = nn.Conv2d(1, 32, kernel_size=3, stride=1, padding=1)\n",
    "        self.conv2 = nn.Conv2d(32, 64, kernel_size=3, stride=1, padding=1)\n",
    "        self.pool = nn.MaxPool2d(2,2)\n",
    "        self.fc1 = nn.Linear(64*7*7, 1024) # 两个池化，所以是7*7\n",
    "        self.fc2 = nn.Linear(1024, 512)\n",
    "        self.fc3 = nn.Linear(512, 10) # 十分类，所以输出是10通道\n",
    "    \n",
    "    def forward(self, x):\n",
    "        x = self.pool(F.relu(self.conv1(x)))\n",
    "        x = self.pool(F.relu(self.conv2(x)))\n",
    "        x = x.view(-1, 64*7*7)\n",
    "        x = F.relu(self.fc1(x))\n",
    "        x = F.relu(self.fc2(x))\n",
    "        x = self.fc3(x)\n",
    "#         x = F.log_softmax(x,dim=1)# NLLLoss需要，crossentropyloss不需要\n",
    "        return x\n",
    "    \n",
    "net = MyCNN()"
   ]
  },
  {
   "cell_type": "markdown",
   "id": "0bdb6e58",
   "metadata": {},
   "source": [
    "2. 使用微调的resnet50"
   ]
  },
  {
   "cell_type": "code",
   "execution_count": 19,
   "id": "621555a5",
   "metadata": {},
   "outputs": [],
   "source": [
    "resnet50 = models.resnet50(pretrained=True)\n",
    "resnet50.fc = nn.Linear(2048, 2)\n",
    "# net = resnet50"
   ]
  },
  {
   "cell_type": "markdown",
   "id": "705ca7f8",
   "metadata": {},
   "source": [
    "2.定义损失函数和优化器"
   ]
  },
  {
   "cell_type": "code",
   "execution_count": 20,
   "id": "49c55488",
   "metadata": {},
   "outputs": [],
   "source": [
    "import torch.optim as optim\n",
    "# loss\n",
    "crition = nn.CrossEntropyLoss() # crossentropyloss里面封装了softmax,如果使用NLLLoss的话需要在定义的网络输出后面使用softmax将其转化为概率分布，然后君爱国年概率与labels做NLLLoss\n",
    "# optimizer\n",
    "optimizer = optim.SGD(net.parameters(), lr=0.001, momentum=0.9)"
   ]
  },
  {
   "cell_type": "markdown",
   "id": "c857ce0c",
   "metadata": {},
   "source": [
    "### Step 3. 训练模型\n",
    "1. 加载训练数据与标签，将其放置在GPU上\n",
    "2. 前向+后向+优化\n",
    "3. 保存模型"
   ]
  },
  {
   "cell_type": "code",
   "execution_count": 21,
   "id": "b8f18671",
   "metadata": {},
   "outputs": [
    {
     "name": "stdout",
     "output_type": "stream",
     "text": [
      "[1, 100] loss:  2.252\n",
      "[1, 200] loss:  1.814\n",
      "[1, 300] loss:  0.775\n",
      "[1, 400] loss:  0.450\n",
      "[1, 500] loss:  0.383\n",
      "[1, 600] loss:  0.349\n",
      "[1, 700] loss:  0.312\n",
      "[1, 800] loss:  0.287\n",
      "[1, 900] loss:  0.262\n",
      "[2, 100] loss:  0.233\n",
      "[2, 200] loss:  0.216\n",
      "[2, 300] loss:  0.195\n",
      "[2, 400] loss:  0.179\n",
      "[2, 500] loss:  0.183\n",
      "[2, 600] loss:  0.176\n",
      "[2, 700] loss:  0.154\n",
      "[2, 800] loss:  0.149\n",
      "[2, 900] loss:  0.145\n",
      "[3, 100] loss:  0.133\n",
      "[3, 200] loss:  0.126\n",
      "[3, 300] loss:  0.128\n",
      "[3, 400] loss:  0.108\n",
      "[3, 500] loss:  0.110\n",
      "[3, 600] loss:  0.116\n",
      "[3, 700] loss:  0.105\n",
      "[3, 800] loss:  0.096\n",
      "[3, 900] loss:  0.097\n",
      "[4, 100] loss:  0.093\n",
      "[4, 200] loss:  0.085\n",
      "[4, 300] loss:  0.094\n",
      "[4, 400] loss:  0.094\n",
      "[4, 500] loss:  0.081\n",
      "[4, 600] loss:  0.079\n",
      "[4, 700] loss:  0.091\n",
      "[4, 800] loss:  0.088\n",
      "[4, 900] loss:  0.093\n",
      "[5, 100] loss:  0.076\n",
      "[5, 200] loss:  0.063\n",
      "[5, 300] loss:  0.074\n",
      "[5, 400] loss:  0.072\n",
      "[5, 500] loss:  0.080\n",
      "[5, 600] loss:  0.072\n",
      "[5, 700] loss:  0.064\n",
      "[5, 800] loss:  0.067\n",
      "[5, 900] loss:  0.061\n",
      "Finished Training!\n"
     ]
    }
   ],
   "source": [
    "train_accs = []\n",
    "train_loss = []\n",
    "test_accs = []\n",
    "device = torch.device('cuda:0' if torch.cuda.is_available() else 'cpu')\n",
    "net = net.to(device)\n",
    "for epoch in range(5): # 一共训练5个epoch\n",
    "    running_loss = 0\n",
    "    for i, data in enumerate(train_loader, 0):\n",
    "        # data的格式[inputs, labels]\n",
    "        # inputs, labels = data\n",
    "        inputs, labels = data[0].to(device), data[1].to(device)\n",
    "        # 初始为0， 清除上个batch的梯度信息\n",
    "        optimizer.zero_grad()\n",
    "        # 前向+后向+优化\n",
    "        outputs = net(inputs)\n",
    "        loss = crition(outputs, labels)\n",
    "        loss.backward()\n",
    "        optimizer.step()\n",
    "        \n",
    "        # 打印100个batch输出的平均loss\n",
    "        running_loss += loss\n",
    "        if i%100 == 99:\n",
    "            print('[%d, %d] loss: % .3f' % (epoch+1, i+1, running_loss/100))\n",
    "            running_loss = 0\n",
    "        # 在training_loss中每个batch添加当前的loss\n",
    "        train_loss.append(loss.item())\n",
    "        \n",
    "        #一个batch中的准确率\n",
    "        correct = 0\n",
    "        total = 0\n",
    "        _, predicted = torch.max(outputs.data, 1) # outputs.data是\n",
    "        total = labels.size(0) # labels的长度\n",
    "        correct = (predicted==labels).sum().item() # 一个batch中预测正确的数量\n",
    "        train_accs.append(100*correct/total)\n",
    "\n",
    "print('Finished Training!')"
   ]
  },
  {
   "cell_type": "code",
   "execution_count": 22,
   "id": "d601bd2d",
   "metadata": {},
   "outputs": [],
   "source": [
    "path = './mnist_net.pth'\n",
    "torch.save(net.state_dict(), path)"
   ]
  },
  {
   "cell_type": "markdown",
   "id": "29ea6359",
   "metadata": {},
   "source": [
    "### Step 4. 评估模型"
   ]
  },
  {
   "cell_type": "markdown",
   "id": "93148099",
   "metadata": {},
   "source": [
    "画图"
   ]
  },
  {
   "cell_type": "code",
   "execution_count": 23,
   "id": "56c200d5",
   "metadata": {},
   "outputs": [],
   "source": [
    "def draw_train_process(title, iters, costs, accs, label_cost, label_acc):\n",
    "    plt.title(title, fontsize=24)\n",
    "    plt.xlabel('iter', fontsize=20)\n",
    "    plt.ylabel('acc(\\%)', fontsize=20)\n",
    "    plt.plot(iters, costs, color='red', label=label_cost)\n",
    "    plt.plot(iters, accs, color='green', label=label_acc)\n",
    "    plt.legend()\n",
    "    plt.grid()\n",
    "    plt.show()"
   ]
  },
  {
   "cell_type": "code",
   "execution_count": 24,
   "id": "9420e70c",
   "metadata": {},
   "outputs": [
    {
     "data": {
      "image/png": "[encoded data removed]",
      "text/plain": [
       "<Figure size 432x288 with 1 Axes>"
      ]
     },
     "metadata": {
      "needs_background": "light"
     },
     "output_type": "display_data"
    }
   ],
   "source": [
    "train_iters = range(len(train_accs))\n",
    "draw_train_process('Training', train_iters, train_loss, train_accs, 'training_loss', 'training_acc')"
   ]
  },
  {
   "cell_type": "markdown",
   "id": "e54bbfba",
   "metadata": {},
   "source": [
    "测试一个batch的分类情况"
   ]
  },
  {
   "cell_type": "code",
   "execution_count": 25,
   "id": "7ccce687",
   "metadata": {},
   "outputs": [
    {
     "name": "stderr",
     "output_type": "stream",
     "text": [
      "Clipping input data to the valid range for imshow with RGB data ([0..1] for floats or [0..255] for integers).\n"
     ]
    },
    {
     "data": {
      "image/png": "[encoded data removed]",
      "text/plain": [
       "<Figure size 432x288 with 1 Axes>"
      ]
     },
     "metadata": {
      "needs_background": "light"
     },
     "output_type": "display_data"
    },
    {
     "name": "stdout",
     "output_type": "stream",
     "text": [
      "Ground Truth:  3 4 4 6 3 1 5 7 1 2 8 4 2 4 7 8 3 5 3 8 2 7 4 4 7 2 2 6 0 3 6 5 5 4 1 6 5 5 0 2 3 4 2 8 3 1 7 7 0 8 4 2 0 6 3 3 4 5 5 6 2 3 1 4\n"
     ]
    }
   ],
   "source": [
    "dataiter = iter(test_loader)\n",
    "images, labels = dataiter.next()\n",
    "\n",
    "# print images\n",
    "test_img = utils.make_grid(images)\n",
    "test_img = test_img.numpy().transpose(1,2,0)\n",
    "std = [0.5]\n",
    "mean = [0.5]\n",
    "test_img = test_img * std + mean\n",
    "plt.imshow(test_img)\n",
    "plt.show()\n",
    "print('Ground Truth: ', ' '.join('%d' % labels[j] for j in range(64)))"
   ]
  },
  {
   "cell_type": "code",
   "execution_count": 26,
   "id": "377e7262",
   "metadata": {},
   "outputs": [],
   "source": [
    "test_net = MyCNN()\n",
    "test_net.load_state_dict(torch.load(path))\n",
    "outputs = test_net(images)\n",
    "# print(outputs)\n",
    "# print(outputs.size())"
   ]
  },
  {
   "cell_type": "markdown",
   "id": "3b5fbd0e",
   "metadata": {},
   "source": [
    "输出的是每一类对应的概率，所以需要选择max来确定最终输出的类别\n",
    "dim=1表示选择行的最大索引"
   ]
  },
  {
   "cell_type": "code",
   "execution_count": 27,
   "id": "b1883e67",
   "metadata": {},
   "outputs": [
    {
     "name": "stdout",
     "output_type": "stream",
     "text": [
      "Predicted:  3 4 4 6 3 1 5 7 1 2 8 4 2 4 7 8 3 5 3 8 2 7 4 4 7 2 2 6 0 3 6 5 5 4 1 6 5 5 0 2 3 2 2 8 3 1 7 7 0 8 4 2 0 6 3 3 4 5 5 6 2 3 1 4\n"
     ]
    }
   ],
   "source": [
    "_, predicted = torch.max(outputs, dim=1)\n",
    "print('Predicted: ', ' '.join('%d' % predicted[j] for j in range(64)))"
   ]
  },
  {
   "cell_type": "markdown",
   "id": "d606733f",
   "metadata": {},
   "source": [
    "测试集上面整体的准确率"
   ]
  },
  {
   "cell_type": "code",
   "execution_count": 28,
   "id": "d53d62df",
   "metadata": {},
   "outputs": [
    {
     "name": "stdout",
     "output_type": "stream",
     "text": [
      "Accuracy of the network on the test images: 98 %\n"
     ]
    }
   ],
   "source": [
    "correct = 0\n",
    "total = 0\n",
    "with torch.no_grad(): # 进行评测时网络不更新梯度\n",
    "    for images, labels in test_loader:\n",
    "        outputs = test_net(images)\n",
    "        _, predicts = torch.max(outputs, dim=1)\n",
    "        total += labels.size(0)\n",
    "        correct += (predicts == labels).sum().item()\n",
    "print('Accuracy of the network on the test images: %d %%' % (100*correct/total))"
   ]
  },
  {
   "cell_type": "markdown",
   "id": "b9706a43",
   "metadata": {},
   "source": [
    "10个类别的准确率"
   ]
  },
  {
   "cell_type": "code",
   "execution_count": 123,
   "id": "4f0916c5",
   "metadata": {
    "scrolled": true
   },
   "outputs": [
    {
     "name": "stdout",
     "output_type": "stream",
     "text": [
      "Accuracy of 0 :                              100 %\n",
      "Accuracy of 1 :                              100 %\n",
      "Accuracy of 2 :                               97 %\n",
      "Accuracy of 3 :                               98 %\n",
      "Accuracy of 4 :                              100 %\n",
      "Accuracy of 5 :                               98 %\n",
      "Accuracy of 6 :                               99 %\n",
      "Accuracy of 7 :                               99 %\n",
      "Accuracy of 8 :                               97 %\n",
      "Accuracy of 9 :                               98 %\n"
     ]
    }
   ],
   "source": [
    "class_correct = list(0. for i in range(10))\n",
    "class_total = list(0. for i in range(10))\n",
    "with torch.no_grad(): # 进行评测时网络不更新梯度\n",
    "    for data in test_loader:\n",
    "        images, labels = data\n",
    "#         print(labels)\n",
    "        outputs = test_net(images)\n",
    "        _, predicted = torch.max(outputs, 1)\n",
    "        c = (predicted==labels)\n",
    "#         print(c)\n",
    "        for i in range(10):\n",
    "            label = labels[i]\n",
    "            class_correct[label] += c[i].item()\n",
    "            class_total[label] += 1\n",
    "            \n",
    "for i in range(10):\n",
    "    print('Accuracy of %d : %32d %%' % (i, 100*class_correct[i] /class_total[i]))\n",
    "            "
   ]
  }
 ],
 "metadata": {
  "kernelspec": {
   "display_name": "Python [conda env:pytorch] *",
   "language": "python",
   "name": "conda-env-pytorch-py"
  },
  "language_info": {
   "codemirror_mode": {
    "name": "ipython",
    "version": 3
   },
   "file_extension": ".py",
   "mimetype": "text/x-python",
   "name": "python",
   "nbconvert_exporter": "python",
   "pygments_lexer": "ipython3",
   "version": "3.8.11"
  }
 },
 "nbformat": 4,
 "nbformat_minor": 5
}
